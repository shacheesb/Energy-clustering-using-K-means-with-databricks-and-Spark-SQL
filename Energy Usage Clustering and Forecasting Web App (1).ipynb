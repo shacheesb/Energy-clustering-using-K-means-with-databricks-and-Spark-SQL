{
 "cells": [
  {
   "cell_type": "code",
   "execution_count": 0,
   "metadata": {
    "application/vnd.databricks.v1+cell": {
     "cellMetadata": {
      "byteLimit": 2048000,
      "rowLimit": 10000
     },
     "inputWidgets": {},
     "nuid": "9d50491f-4ba9-46d6-aa2d-9db39238661d",
     "showTitle": false,
     "tableResultSettingsMap": {},
     "title": ""
    }
   },
   "outputs": [],
   "source": [
    "# Use legacy timestamp parser for Spark 3.x compatibility\n",
    "spark.conf.set(\"spark.sql.legacy.timeParserPolicy\", \"LEGACY\")\n"
   ]
  },
  {
   "cell_type": "code",
   "execution_count": 0,
   "metadata": {
    "application/vnd.databricks.v1+cell": {
     "cellMetadata": {
      "byteLimit": 2048000,
      "rowLimit": 10000
     },
     "inputWidgets": {},
     "nuid": "39bab3e1-1548-430b-88cf-de2ddb115b56",
     "showTitle": false,
     "tableResultSettingsMap": {},
     "title": ""
    }
   },
   "outputs": [
    {
     "output_type": "stream",
     "name": "stdout",
     "output_type": "stream",
     "text": [
      "+----------+--------+-------------------+---------------------+-------+----------------+--------------+--------------+--------------+\n|      Date|    Time|Global_active_power|Global_reactive_power|Voltage|Global_intensity|Sub_metering_1|Sub_metering_2|Sub_metering_3|\n+----------+--------+-------------------+---------------------+-------+----------------+--------------+--------------+--------------+\n|16/12/2006|17:24:00|              4.216|                0.418|234.840|          18.400|         0.000|         1.000|          17.0|\n|16/12/2006|17:25:00|              5.360|                0.436|233.630|          23.000|         0.000|         1.000|          16.0|\n|16/12/2006|17:26:00|              5.374|                0.498|233.290|          23.000|         0.000|         2.000|          17.0|\n|16/12/2006|17:27:00|              5.388|                0.502|233.740|          23.000|         0.000|         1.000|          17.0|\n|16/12/2006|17:28:00|              3.666|                0.528|235.680|          15.800|         0.000|         1.000|          17.0|\n+----------+--------+-------------------+---------------------+-------+----------------+--------------+--------------+--------------+\nonly showing top 5 rows\n\n"
     ]
    }
   ],
   "source": [
    "df = spark.read.option(\"header\", True)\\\n",
    "    .option(\"sep\", \";\")\\\n",
    "    .option(\"inferSchema\", True)\\\n",
    "    .csv(\"/FileStore/tables/household_power_consumption.txt\")\n",
    "\n",
    "df.show(5)\n"
   ]
  },
  {
   "cell_type": "code",
   "execution_count": 0,
   "metadata": {
    "application/vnd.databricks.v1+cell": {
     "cellMetadata": {
      "byteLimit": 2048000,
      "rowLimit": 10000
     },
     "inputWidgets": {},
     "nuid": "2f89cd52-0863-4d43-b4bf-a49373fd96aa",
     "showTitle": false,
     "tableResultSettingsMap": {},
     "title": ""
    }
   },
   "outputs": [
    {
     "output_type": "stream",
     "name": "stdout",
     "output_type": "stream",
     "text": [
      "+----------+--------+-------------------+-------------------+\n|Date      |Time    |Timestamp          |Global_active_power|\n+----------+--------+-------------------+-------------------+\n|16/12/2006|17:24:00|2006-12-16 17:24:00|4.216              |\n|16/12/2006|17:25:00|2006-12-16 17:25:00|5.36               |\n|16/12/2006|17:26:00|2006-12-16 17:26:00|5.374              |\n|16/12/2006|17:27:00|2006-12-16 17:27:00|5.388              |\n|16/12/2006|17:28:00|2006-12-16 17:28:00|3.666              |\n+----------+--------+-------------------+-------------------+\nonly showing top 5 rows\n\n"
     ]
    }
   ],
   "source": [
    "from pyspark.sql.functions import concat_ws, to_timestamp, col\n",
    "\n",
    "# Reload cleanly\n",
    "df = spark.read.option(\"header\", True)\\\n",
    "    .option(\"sep\", \";\")\\\n",
    "    .csv(\"/FileStore/tables/household_power_consumption.txt\")\n",
    "\n",
    "# Correctly parse timestamp and cast power usage\n",
    "df = df.withColumn(\"Timestamp\", to_timestamp(concat_ws(\" \", col(\"Date\"), col(\"Time\")), \"dd/MM/yyyy HH:mm:ss\")) \\\n",
    "       .withColumn(\"Global_active_power\", col(\"Global_active_power\").cast(\"double\")) \\\n",
    "       .dropna(subset=[\"Timestamp\", \"Global_active_power\"])\n",
    "\n",
    "# Check output\n",
    "df.select(\"Date\", \"Time\", \"Timestamp\", \"Global_active_power\").show(5, truncate=False)\n"
   ]
  },
  {
   "cell_type": "code",
   "execution_count": 0,
   "metadata": {
    "application/vnd.databricks.v1+cell": {
     "cellMetadata": {
      "byteLimit": 2048000,
      "rowLimit": 10000
     },
     "inputWidgets": {},
     "nuid": "9cffe43d-4671-40b3-91e6-92633b84b672",
     "showTitle": false,
     "tableResultSettingsMap": {},
     "title": ""
    }
   },
   "outputs": [
    {
     "output_type": "stream",
     "name": "stdout",
     "output_type": "stream",
     "text": [
      "+----+-------------------+\n|hour|          avg_power|\n+----+-------------------+\n|  12| 1.2070750260792096|\n|  22| 1.4126147300503793|\n|   1| 0.5393251638576786|\n|  13| 1.1445321537379893|\n|   6| 0.7915996434393993|\n|  16| 0.9489045760824987|\n|   3| 0.4448663201760571|\n|  20|  1.899064135957484|\n|   5|0.45367353976073366|\n|  19| 1.7333350634775906|\n|  15| 0.9907604535126148|\n|  17|  1.055109358520638|\n|   9| 1.3316453420225987|\n|   4| 0.4438472520130822|\n|   8| 1.4610164956914231|\n|  23| 0.9021416082281435|\n|   7| 1.5022463299094788|\n|  10| 1.2606274399399375|\n|  21| 1.8776974593412747|\n|  11| 1.2458220016891879|\n|  14| 1.0828393185410712|\n|   2| 0.4806205596975625|\n|   0| 0.6594341860546722|\n|  18| 1.3264510996285734|\n+----+-------------------+\n\n"
     ]
    }
   ],
   "source": [
    "from pyspark.sql.functions import hour, avg\n",
    "\n",
    "hourly_usage = df.withColumn(\"hour\", hour(\"Timestamp\")) \\\n",
    "                 .groupBy(\"hour\") \\\n",
    "                 .agg(avg(\"Global_active_power\").alias(\"avg_power\"))\n",
    "\n",
    "hourly_usage.show(24)\n"
   ]
  },
  {
   "cell_type": "code",
   "execution_count": 0,
   "metadata": {
    "application/vnd.databricks.v1+cell": {
     "cellMetadata": {
      "byteLimit": 2048000,
      "rowLimit": 10000
     },
     "inputWidgets": {},
     "nuid": "ff656129-65a8-495a-a283-10232ccc1f3e",
     "showTitle": false,
     "tableResultSettingsMap": {},
     "title": ""
    }
   },
   "outputs": [
    {
     "output_type": "stream",
     "name": "stdout",
     "output_type": "stream",
     "text": [
      "+----+-------------------+----------+\n|hour|          avg_power|prediction|\n+----+-------------------+----------+\n|   0| 0.6594341860546722|         1|\n|   1| 0.5393251638576786|         1|\n|   2| 0.4806205596975625|         1|\n|   3| 0.4448663201760571|         1|\n|   4| 0.4438472520130822|         1|\n|   5|0.45367353976073366|         1|\n|   6| 0.7915996434393993|         1|\n|   7| 1.5022463299094788|         0|\n|   8| 1.4610164956914231|         0|\n|   9| 1.3316453420225987|         0|\n|  10| 1.2606274399399375|         0|\n|  11| 1.2458220016891879|         0|\n|  12| 1.2070750260792096|         0|\n|  13| 1.1445321537379893|         0|\n|  14| 1.0828393185410712|         0|\n|  15| 0.9907604535126148|         0|\n|  16| 0.9489045760824987|         0|\n|  17|  1.055109358520638|         0|\n|  18| 1.3264510996285734|         0|\n|  19| 1.7333350634775906|         2|\n+----+-------------------+----------+\nonly showing top 20 rows\n\n"
     ]
    }
   ],
   "source": [
    "from pyspark.ml.feature import VectorAssembler\n",
    "from pyspark.ml.clustering import KMeans\n",
    "\n",
    "vec_assembler = VectorAssembler(inputCols=[\"avg_power\"], outputCol=\"features\")\n",
    "features_df = vec_assembler.transform(hourly_usage)\n",
    "\n",
    "kmeans = KMeans(k=3, seed=42)\n",
    "model = kmeans.fit(features_df)\n",
    "clustered_df = model.transform(features_df)\n",
    "\n",
    "clustered_df.select(\"hour\", \"avg_power\", \"prediction\").orderBy(\"hour\").show()\n"
   ]
  },
  {
   "cell_type": "code",
   "execution_count": 0,
   "metadata": {
    "application/vnd.databricks.v1+cell": {
     "cellMetadata": {
      "byteLimit": 2048000,
      "rowLimit": 10000
     },
     "inputWidgets": {},
     "nuid": "d7046b46-3339-4c64-8959-50cd28155ef7",
     "showTitle": false,
     "tableResultSettingsMap": {},
     "title": ""
    }
   },
   "outputs": [
    {
     "output_type": "stream",
     "name": "stdout",
     "output_type": "stream",
     "text": [
      "+----+-------------------+----------+\n|hour|          avg_power|prediction|\n+----+-------------------+----------+\n|   0| 0.6594341860546722|         1|\n|   1| 0.5393251638576786|         1|\n|   2| 0.4806205596975625|         1|\n|   3| 0.4448663201760571|         1|\n|   4| 0.4438472520130822|         1|\n|   5|0.45367353976073366|         1|\n|   6| 0.7915996434393993|         1|\n|   7| 1.5022463299094788|         0|\n|   8| 1.4610164956914231|         0|\n|   9| 1.3316453420225987|         0|\n|  10| 1.2606274399399375|         0|\n|  11| 1.2458220016891879|         0|\n|  12| 1.2070750260792096|         0|\n|  13| 1.1445321537379893|         0|\n|  14| 1.0828393185410712|         0|\n|  15| 0.9907604535126148|         0|\n|  16| 0.9489045760824987|         0|\n|  17|  1.055109358520638|         0|\n|  18| 1.3264510996285734|         0|\n|  19| 1.7333350634775906|         2|\n+----+-------------------+----------+\nonly showing top 20 rows\n\n"
     ]
    }
   ],
   "source": [
    "from pyspark.ml.feature import VectorAssembler\n",
    "from pyspark.ml.clustering import KMeans\n",
    "\n",
    "vec_assembler = VectorAssembler(inputCols=[\"avg_power\"], outputCol=\"features\")\n",
    "features_df = vec_assembler.transform(hourly_usage)\n",
    "\n",
    "kmeans = KMeans(k=3, seed=42)\n",
    "model = kmeans.fit(features_df)\n",
    "clustered_df = model.transform(features_df)\n",
    "\n",
    "clustered_df.select(\"hour\", \"avg_power\", \"prediction\").orderBy(\"hour\").show()\n"
   ]
  },
  {
   "cell_type": "code",
   "execution_count": 0,
   "metadata": {
    "application/vnd.databricks.v1+cell": {
     "cellMetadata": {
      "byteLimit": 2048000,
      "rowLimit": 10000
     },
     "inputWidgets": {},
     "nuid": "5fd967c5-e765-4440-8920-31a8cff7dd79",
     "showTitle": false,
     "tableResultSettingsMap": {},
     "title": ""
    }
   },
   "outputs": [
    {
     "output_type": "display_data",
     "data": {
      "image/png": "[encoded data removed]"
     },
     "metadata": {
      "application/vnd.databricks.v1+output": {
       "addedWidgets": {},
       "arguments": {},
       "data": "data:image/png;base64,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\n",
       "datasetInfos": [],
       "metadata": {},
       "removedWidgets": [],
       "type": "image"
      }
     },
     "output_type": "display_data"
    }
   ],
   "source": [
    "import seaborn as sns\n",
    "import matplotlib.pyplot as plt\n",
    "\n",
    "# Convert clustered_df (Spark DataFrame) to Pandas\n",
    "pdf = clustered_df.select(\"hour\", \"avg_power\", \"prediction\").toPandas()\n",
    "\n",
    "# Now plot\n",
    "plt.figure(figsize=(10, 5))\n",
    "sns.scatterplot(data=pdf, x=\"hour\", y=\"avg_power\", hue=\"prediction\", palette=\"tab10\")\n",
    "plt.title(\"K-Means Clustering of Hourly Power Usage\")\n",
    "plt.xlabel(\"Hour of Day\")\n",
    "plt.ylabel(\"Average Power (kW)\")\n",
    "plt.grid(True)\n",
    "plt.tight_layout()\n",
    "plt.show()\n"
   ]
  }
 ],
 "metadata": {
  "application/vnd.databricks.v1+notebook": {
   "computePreferences": null,
   "dashboards": [],
   "environmentMetadata": {
    "base_environment": "",
    "environment_version": "1"
   },
   "inputWidgetPreferences": null,
   "language": "python",
   "notebookMetadata": {
    "pythonIndentUnit": 4
   },
   "notebookName": "Energy Usage Clustering and Forecasting Web App",
   "widgets": {}
  }
 },
 "nbformat": 4,
 "nbformat_minor": 0
}